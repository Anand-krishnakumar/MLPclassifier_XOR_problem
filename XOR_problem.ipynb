{
  "nbformat": 4,
  "nbformat_minor": 0,
  "metadata": {
    "colab": {
      "name": "XOR_problem.ipynb",
      "version": "0.3.2",
      "provenance": [],
      "include_colab_link": true
    },
    "kernelspec": {
      "name": "python3",
      "display_name": "Python 3"
    }
  },
  "cells": [
    {
      "cell_type": "markdown",
      "metadata": {
        "id": "view-in-github",
        "colab_type": "text"
      },
      "source": [
        "[View in Colaboratory](https://colab.research.google.com/github/Anand-krishnakumar/MLPclassifier_XOR_problem/blob/master/XOR_problem.ipynb)"
      ]
    },
    {
      "metadata": {
        "id": "sDIYEAd5_S1i",
        "colab_type": "code",
        "colab": {
          "base_uri": "https://localhost:8080/",
          "height": 119
        },
        "outputId": "0517da2a-ff78-4bea-d75a-1f893354d04f"
      },
      "cell_type": "code",
      "source": [
        "from sklearn.neural_network import MLPClassifier\n",
        "X = [[0,0],[0,1],[1,0],[1,1]]\n",
        "Y = [0,1,1,0]\n",
        "clf = MLPClassifier(solver='lbfgs', alpha=1e-5,\n",
        "                    hidden_layer_sizes=(2),activation = 'relu', random_state=1, max_iter = 200)\n",
        "clf.fit(X,Y)\n",
        "print(\"The Weights of each neuron are: \")\n",
        "print(clf.coefs_)\n",
        "print(\"The Intercepts of each neuron are: \")\n",
        "print(clf.intercepts_)\n"
      ],
      "execution_count": 10,
      "outputs": [
        {
          "output_type": "stream",
          "text": [
            "The Weights of each neuron are: \n",
            "[array([[-0.20324965,  0.53967172],\n",
            "       [-1.22444005, -0.48417458]]), array([[-0.88737225],\n",
            "       [-0.43681143]])]\n",
            "The Intercepts of each neuron are: \n",
            "[array([-0.86526782, -0.99856243]), array([2.41126179e-05])]\n"
          ],
          "name": "stdout"
        }
      ]
    }
  ]
}
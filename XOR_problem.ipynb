{
  "nbformat": 4,
  "nbformat_minor": 0,
  "metadata": {
    "colab": {
      "name": "XOR_problem.ipynb",
      "version": "0.3.2",
      "provenance": [],
      "collapsed_sections": [],
      "include_colab_link": true
    },
    "kernelspec": {
      "name": "python3",
      "display_name": "Python 3"
    },
    "accelerator": "GPU"
  },
  "cells": [
    {
      "cell_type": "markdown",
      "metadata": {
        "id": "view-in-github",
        "colab_type": "text"
      },
      "source": [
        "[View in Colaboratory](https://colab.research.google.com/github/Anand-krishnakumar/MLPclassifier_XOR_problem/blob/master/XOR_problem.ipynb)"
      ]
    },
    {
      "metadata": {
        "id": "sDIYEAd5_S1i",
        "colab_type": "code",
        "colab": {
          "base_uri": "https://localhost:8080/",
          "height": 153
        },
        "outputId": "d689c5e7-c9c5-4d91-ba43-5f0de888b3a5"
      },
      "cell_type": "code",
      "source": [
        "from sklearn.neural_network import MLPClassifier\n",
        "X = [[0,0],[0,1],[1,0],[1,1]]\n",
        "y = [0,1,1,0]\n",
        "clf = MLPClassifier(solver='lbfgs', alpha=1e-5,\n",
        "                    hidden_layer_sizes=(2),activation = 'tanh', random_state=1, max_iter = 200)\n",
        "clf.fit(X,y)\n",
        "print(\"The Weights of each neuron are: \")\n",
        "print(clf.coefs_)\n",
        "print(\"The Intercepts of each neuron are: \")\n",
        "print(clf.intercepts_)\n",
        "print(\"Predicting the output: \")\n",
        "clf.predict(X)"
      ],
      "execution_count": 21,
      "outputs": [
        {
          "output_type": "stream",
          "text": [
            "The Weights of each neuron are: \n",
            "[array([[-9.724592  , -3.09256795],\n",
            "       [-8.61224712, -3.27327034]]), array([[-9.90053157],\n",
            "       [10.6941883 ]])]\n",
            "The Intercepts of each neuron are: \n",
            "[array([3.10924711, 4.57433779]), array([-9.80833665])]\n",
            "Predicting the output: \n"
          ],
          "name": "stdout"
        },
        {
          "output_type": "execute_result",
          "data": {
            "text/plain": [
              "array([0, 1, 1, 0])"
            ]
          },
          "metadata": {
            "tags": []
          },
          "execution_count": 21
        }
      ]
    }
  ]
}